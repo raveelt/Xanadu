{
 "cells": [
  {
   "cell_type": "code",
   "execution_count": 3,
   "id": "5f47c22f",
   "metadata": {},
   "outputs": [],
   "source": [
    "import numpy as np"
   ]
  },
  {
   "cell_type": "code",
   "execution_count": 6,
   "id": "daa9106a",
   "metadata": {},
   "outputs": [],
   "source": [
    "#I.1.1\n",
    "\n",
    "# Here are the vector representations of |0> and |1>, for convenience\n",
    "\n",
    "ket_0 = np.array([1, 0])\n",
    "ket_1 = np.array([0, 1])  # do these need to be row vectors? \n",
    "\n",
    "def normalize_state(alpha, beta):\n",
    "    \"\"\"Compute a normalized quantum state given arbitrary amplitudes.\n",
    "    \n",
    "    Args:\n",
    "        alpha (complex): The amplitude associated with the |0> state.\n",
    "        beta (complex): The amplitude associated with the |1> state.\n",
    "        \n",
    "    Returns:\n",
    "        array[complex]: A vector (numpy array) with 2 elements that represents\n",
    "        a normalized quantum state.\n",
    "    \"\"\"\n",
    "\n",
    "    ##################\n",
    "    # YOUR CODE HERE #\n",
    "    ##################\n",
    "\n",
    "    # CREATE A VECTOR [a', b'] BASED ON alpha AND beta SUCH THAT |a'|^2 + |b'|^2 = 1\n",
    "    \n",
    "    a = alpha * ket_0\n",
    "    b = beta * ket_1\n",
    "    \n",
    "    super_p = a + b\n",
    "    \n",
    "    return super_p / np.linalg.norm(super_p)"
   ]
  },
  {
   "cell_type": "code",
   "execution_count": 7,
   "id": "f79dc3a7",
   "metadata": {
    "scrolled": true
   },
   "outputs": [
    {
     "data": {
      "text/plain": [
       "array([0.6, 0.8])"
      ]
     },
     "execution_count": 7,
     "metadata": {},
     "output_type": "execute_result"
    }
   ],
   "source": [
    "normalize_state(3,4) #test"
   ]
  },
  {
   "cell_type": "code",
   "execution_count": null,
   "id": "f2f4acff",
   "metadata": {},
   "outputs": [],
   "source": []
  }
 ],
 "metadata": {
  "kernelspec": {
   "display_name": "Python 3 (ipykernel)",
   "language": "python",
   "name": "python3"
  },
  "language_info": {
   "codemirror_mode": {
    "name": "ipython",
    "version": 3
   },
   "file_extension": ".py",
   "mimetype": "text/x-python",
   "name": "python",
   "nbconvert_exporter": "python",
   "pygments_lexer": "ipython3",
   "version": "3.10.8"
  }
 },
 "nbformat": 4,
 "nbformat_minor": 5
}
