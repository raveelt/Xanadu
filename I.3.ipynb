{
 "cells": [
  {
   "cell_type": "markdown",
   "id": "741e00e9",
   "metadata": {},
   "source": [
    "### Reminder ###\n",
    "\n",
    "from the codebook 1.2 Code section:\n",
    "\n",
    "While quantum circuits are represented as quantum functions, a quantum function alone isn't enough to run and execute a circuit. For this we need two extra parts:\n",
    "\n",
    "- a device to run the circuit on\n",
    "- a QNode, which binds the circuit to the device, and executes it"
   ]
  },
  {
   "cell_type": "code",
   "execution_count": 21,
   "id": "31a203cd",
   "metadata": {},
   "outputs": [
    {
     "data": {
      "text/plain": [
       "(tensor([0.70710678+0.j, 0.70710678+0.j], requires_grad=True),\n",
       " tensor([0.70710678+0.j, 0.70710678+0.j], requires_grad=True))"
      ]
     },
     "execution_count": 21,
     "metadata": {},
     "output_type": "execute_result"
    }
   ],
   "source": [
    "#I.3.1\n",
    "import pennylane as qml\n",
    "import numpy as np\n",
    "\n",
    "dev = qml.device(\"default.qubit\", wires=1) #1 Qubit\n",
    "#dev = qml.device(\"default.qubit\", wires=\"wire_a\") ##wires -> list of names or a number (they represent qubits)\n",
    "\n",
    "U = np.array([[1, 1], [1, -1]]) / np.sqrt(2)\n",
    "\n",
    "@qml.qnode(dev) ##  decorator function binds the circuit to the device and executes it\n",
    "def apply_u():\n",
    "\n",
    "    # USE QubitUnitary TO APPLY U TO THE QUBIT\n",
    "    \n",
    "    qml.QubitUnitary(U, wires=0) ### I believe 0 works because of indexing here, represents the first and only qubit\n",
    "    #qml.QubitUnitary(U, wires=\"wire_a\")\n",
    "    # Return the state\n",
    "    return qml.state()\n",
    "\n",
    "\n",
    "###### if we dont use a decorator function, we have to do this:\n",
    "\n",
    "# This creates a QNode, binding the function and device\n",
    "my_qnode = qml.QNode(apply_u, dev)\n",
    "\n",
    "# Now we can execute the QNode by calling it like we would a regular function\n",
    "my_qnode(), apply_u() ## both print out the same result"
   ]
  },
  {
   "cell_type": "markdown",
   "id": "dadfcc95",
   "metadata": {},
   "source": [
    "https://docs.pennylane.ai/en/stable/code/api/pennylane.QubitUnitary.html\n",
    "\n",
    "comparing to how I previously did it, I returned the matrix multiplication of u and the state (np.matmul), Xanadu used np.dot\n",
    "\n",
    "\n",
    "- we also initialized a state ($|0\\rangle$) beforehand\n",
    "- apply_u, then measured state"
   ]
  },
  {
   "cell_type": "code",
   "execution_count": 3,
   "id": "9c6597b3",
   "metadata": {},
   "outputs": [
    {
     "name": "stdout",
     "output_type": "stream",
     "text": [
      "Default qubit PennyLane plugin\n",
      "Short name: default.qubit\n",
      "Package: pennylane\n",
      "Plugin version: 0.29.1\n",
      "Author: Xanadu Inc.\n",
      "Wires: 1\n",
      "Shots: None\n"
     ]
    }
   ],
   "source": [
    "print(dev)"
   ]
  },
  {
   "cell_type": "code",
   "execution_count": 25,
   "id": "42d75877",
   "metadata": {},
   "outputs": [
    {
     "data": {
      "text/plain": [
       "tensor([6.123234e-17-1.j, 0.000000e+00+0.j], requires_grad=True)"
      ]
     },
     "execution_count": 25,
     "metadata": {},
     "output_type": "execute_result"
    }
   ],
   "source": [
    "#1.3.2 #read the question carefully next time, accidentally typed out U rot matrix, Good way to check it\n",
    "#gives the same output\n",
    "\n",
    "dev = qml.device(\"default.qubit\", wires=1)\n",
    "\n",
    "\n",
    "@qml.qnode(dev)\n",
    "def apply_u_as_rot(phi, theta, omega):\n",
    "\n",
    "    ##################\n",
    "    # YOUR CODE HERE #\n",
    "    ##################\n",
    "    \n",
    "    #U = np.array([[np.exp(-1j*(phi+omega)/2)*np.cos(theta/2), -np.exp(1j*(phi-omega)/2)*np.sin(theta/2)], \n",
    "    #              [np.exp(-1j*(phi-omega)/2)*np.sin(theta/2),  np.exp(1j*(phi+omega)/2)*np.cos(theta/2)]])\n",
    "                  \n",
    "    \n",
    "    # APPLY A ROT GATE USING THE PROVIDED INPUT PARAMETERS\n",
    "    \n",
    "    ##qml.QubitUnitary(U, wires=0)\n",
    "    \n",
    "    qml.Rot(phi, theta, omega, wires=0)\n",
    "    \n",
    "    # RETURN THE QUANTUM STATE VECTOR\n",
    "\n",
    "    return qml.state()\n",
    "\n",
    "apply_u_as_rot(np.pi, 0, 0)"
   ]
  },
  {
   "cell_type": "code",
   "execution_count": 26,
   "id": "170165f9",
   "metadata": {},
   "outputs": [
    {
     "data": {
      "text/plain": [
       "tensor([6.123234e-17-1.j, 0.000000e+00+0.j], requires_grad=True)"
      ]
     },
     "execution_count": 26,
     "metadata": {},
     "output_type": "execute_result"
    }
   ],
   "source": [
    "dev = qml.device(\"default.qubit\", wires=1)\n",
    "\n",
    "\n",
    "@qml.qnode(dev)\n",
    "def apply_u_as_rot(phi, theta, omega):\n",
    "\n",
    "    ##################\n",
    "    # YOUR CODE HERE #\n",
    "    ##################\n",
    "    \n",
    "    U = np.array([[np.exp(-1j*(phi+omega)/2)*np.cos(theta/2), -np.exp(1j*(phi-omega)/2)*np.sin(theta/2)], \n",
    "                  [np.exp(-1j*(phi-omega)/2)*np.sin(theta/2),  np.exp(1j*(phi+omega)/2)*np.cos(theta/2)]])\n",
    "                  \n",
    "    \n",
    "    # APPLY A ROT GATE USING THE PROVIDED INPUT PARAMETERS\n",
    "    \n",
    "    qml.QubitUnitary(U, wires=0)\n",
    "    \n",
    "    #qml.Rot(phi, theta, omega, wires=0)\n",
    "    \n",
    "    # RETURN THE QUANTUM STATE VECTOR\n",
    "\n",
    "    return qml.state()\n",
    "\n",
    "apply_u_as_rot(np.pi, 0, 0)"
   ]
  }
 ],
 "metadata": {
  "kernelspec": {
   "display_name": "Python 3 (ipykernel)",
   "language": "python",
   "name": "python3"
  },
  "language_info": {
   "codemirror_mode": {
    "name": "ipython",
    "version": 3
   },
   "file_extension": ".py",
   "mimetype": "text/x-python",
   "name": "python",
   "nbconvert_exporter": "python",
   "pygments_lexer": "ipython3",
   "version": "3.10.8"
  }
 },
 "nbformat": 4,
 "nbformat_minor": 5
}
