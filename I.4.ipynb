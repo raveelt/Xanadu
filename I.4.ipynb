{
 "cells": [
  {
   "cell_type": "markdown",
   "id": "74100f01",
   "metadata": {},
   "source": [
    "As long as we know how  acts on the two computational basis states, we can use that as a shortcut to evaluate its action on any other state.\n",
    "\n",
    "assume:\n",
    "$$U|0 \\rangle = \\alpha |0 \\rangle + \\beta |1 \\rangle $$\n",
    "$$U|1 \\rangle = \\gamma |0 \\rangle + \\delta |1 \\rangle $$\n",
    "\n",
    "\n",
    "if: ``` # assuming p and q are just any scalar value in the complex plane ```\n",
    "\n",
    "$$|\\psi \\rangle = p|0\\rangle + q|1\\rangle$$  \n",
    "\n",
    "then:\n",
    "$$U|\\psi \\rangle = U(p|0\\rangle + q|1\\rangle) $$\n",
    "\n",
    "$$ = p \\cdot U|0\\rangle + q \\cdot U|1\\rangle $$\n",
    "\n",
    "$$= p \\cdot (\\alpha |0 \\rangle + \\beta |1 \\rangle) + q \\cdot (\\gamma |0 \\rangle + \\delta |1 \\rangle) $$\n",
    "\n",
    "$$= (p \\cdot \\alpha + q \\cdot \\gamma) |0 \\rangle + (p \\cdot \\beta + q \\cdot \\delta) |1 \\rangle $$\n",
    "\n",
    "    "
   ]
  },
  {
   "cell_type": "code",
   "execution_count": null,
   "id": "0fb3318e",
   "metadata": {},
   "outputs": [],
   "source": []
  }
 ],
 "metadata": {
  "kernelspec": {
   "display_name": "Python 3 (ipykernel)",
   "language": "python",
   "name": "python3"
  },
  "language_info": {
   "codemirror_mode": {
    "name": "ipython",
    "version": 3
   },
   "file_extension": ".py",
   "mimetype": "text/x-python",
   "name": "python",
   "nbconvert_exporter": "python",
   "pygments_lexer": "ipython3",
   "version": "3.10.8"
  }
 },
 "nbformat": 4,
 "nbformat_minor": 5
}
