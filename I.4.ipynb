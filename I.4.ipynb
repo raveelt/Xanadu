{
 "cells": [
  {
   "cell_type": "markdown",
   "id": "ff194785",
   "metadata": {},
   "source": [
    "# Describing Quantum Operations\n",
    "\n",
    "**Exercise I.4.1**\n",
    "\n",
    "As long as we know how  acts on the two computational basis states, we can use that as a shortcut to evaluate its action on any other state.\n",
    "\n",
    "assume:\n",
    "$$U|0 \\rangle = \\alpha |0 \\rangle + \\beta |1 \\rangle $$\n",
    "$$U|1 \\rangle = \\gamma |0 \\rangle + \\delta |1 \\rangle $$\n",
    "\n",
    "\n",
    "if: ``` # assuming p and q are just any scalar value in the complex plane ```\n",
    "\n",
    "$$|\\psi \\rangle = p|0\\rangle + q|1\\rangle$$  \n",
    "\n",
    "then:\n",
    "$$U|\\psi \\rangle = U(p|0\\rangle + q|1\\rangle) $$\n",
    "\n",
    "$$ = p \\cdot U|0\\rangle + q \\cdot U|1\\rangle $$\n",
    "\n",
    "$$= p \\cdot (\\alpha |0 \\rangle + \\beta |1 \\rangle) + q \\cdot (\\gamma |0 \\rangle + \\delta |1 \\rangle) $$\n",
    "\n",
    "$$= (p \\cdot \\alpha + q \\cdot \\gamma) |0 \\rangle + (p \\cdot \\beta + q \\cdot \\delta) |1 \\rangle $$\n",
    "\n",
    "    "
   ]
  },
  {
   "attachments": {
    "image.png": {
     "image/png": "[encoded data removed]"
    }
   },
   "cell_type": "markdown",
   "id": "552e5353",
   "metadata": {},
   "source": [
    "# Pauli X\n",
    "\n",
    "Bit flip gate:\n",
    "\n",
    "$$X = \\begin{pmatrix} 0&1 \\\\ 1&0 \\end{pmatrix} \\;$$\n",
    "\n",
    "$$X|0\\rangle = |1\\rangle$$\n",
    "$$X|1\\rangle = |0\\rangle$$\n",
    "\n",
    "representation in quantum circuits (https://codebook.xanadu.ai/I.4):\n",
    "\n",
    "![image.png](attachment:image.png)"
   ]
  },
  {
   "cell_type": "markdown",
   "id": "c2f8b276",
   "metadata": {},
   "source": [
    "**Exercise I.4.2**\n",
    "\n",
    "\n",
    "$$X|\\alpha\\rangle = \\lambda|\\alpha\\rangle$$\n",
    "\n",
    "$$(X - \\lambda I)|\\alpha\\rangle = 0 $$\n",
    "\n",
    "$$|X - \\lambda I|= 0 $$\n",
    "\n",
    "$$ \\left | \\begin{pmatrix} -\\lambda &1 \\\\ 1& -\\lambda\\end{pmatrix} \\right | = 0 \\;$$\n",
    "\n",
    "$$ \\lambda^2 - 1 = 0$$\n",
    "\n",
    "$$ \\lambda = \\pm 1 $$\n",
    "\n",
    "\n",
    "$$  \\begin{pmatrix} -1 &1 \\\\ 1& -1\\end{pmatrix} \\begin{pmatrix} a \\\\ b \\end{pmatrix} = 0 \\;$$\n",
    "\n",
    "we can see $a = b$ so for $\\lambda = 1$\n",
    "\n",
    "$$ |\\alpha\\rangle = \\frac{1}{\\sqrt{2}}\\begin{pmatrix} 1 \\\\ 1 \\end{pmatrix} $$\n",
    "\n",
    "$$ |\\alpha\\rangle = \\frac{1}{\\sqrt{2}}(|0\\rangle + |1\\rangle) $$\n",
    "\n",
    "for $\\lambda = -1$\n",
    "\n",
    "$$ |\\alpha\\rangle = \\frac{1}{\\sqrt{2}}\\begin{pmatrix} -1 \\\\ 1 \\end{pmatrix} $$\n",
    "\n",
    "$$ |\\alpha\\rangle = \\frac{1}{\\sqrt{2}}(-|0\\rangle + |1\\rangle) $$\n",
    "\n",
    "    book used different eigenvector:\n",
    "\n",
    "$$ |\\alpha\\rangle = \\frac{1}{\\sqrt{2}}(|0\\rangle - |1\\rangle) $$\n",
    "\n"
   ]
  },
  {
   "cell_type": "markdown",
   "id": "0f348dcc",
   "metadata": {},
   "source": [
    "# Hadamard\n",
    "\n",
    "Uniform superposition gate\n",
    "\n",
    "$$H = \\frac{1}{\\sqrt{2}} \\begin{pmatrix} 1&1 \\\\ 1&-1 \\end{pmatrix} \\;$$\n",
    "\n",
    "$$H|0\\rangle = |+\\rangle =\\frac{1}{\\sqrt{2}}(|0\\rangle + |1\\rangle) $$\n",
    "$$H|1\\rangle = |-\\rangle = \\frac{1}{\\sqrt{2}}(|0\\rangle - |1\\rangle)$$"
   ]
  },
  {
   "cell_type": "markdown",
   "id": "b547c99f",
   "metadata": {},
   "source": [
    "**Exersice 1.4.3**\n",
    "\n",
    "$HH|0\\rangle = H(\\frac{1}{\\sqrt{2}}(|0\\rangle + |1\\rangle)) =\\frac{1}{\\sqrt{2}}(H|0\\rangle + H|1\\rangle) = \\frac{1}{\\sqrt{2}}(\\frac{1}{\\sqrt{2}}(|0\\rangle + |1\\rangle) + \\frac{1}{\\sqrt{2}}(|0\\rangle - |1\\rangle)) =|0\\rangle $\n",
    "\n",
    "given my answer above, my guess would be that $HH|1\\rangle =|1\\rangle$\n",
    "\n",
    "\n",
    "This is important because it implies $H$ is its own inverse - > creates and destroys uniform superpositions\n"
   ]
  },
  {
   "cell_type": "markdown",
   "id": "0074384f",
   "metadata": {},
   "source": [
    "**Exersice 1.4.4**\n",
    "Show $|+\\rangle$ and $|-\\rangle$ are an orthonormal basis.\n",
    "\n",
    "Well we know its normalized because those vectors match the Pauli X eigenvectors, the normalization factor is the division by $\\sqrt{2}$. We can check they are orthogonal by taking a dot product and checking if its zero, Which in ket notation the inner product would be a bra - ket (I guess this would be important if we had complex numbers) ?\n",
    "\n",
    "$\\langle-|+\\rangle = \\frac{1}{2}(1 - 1) = 0 $\n",
    "\n",
    "I didn't do it in ket notation as the book did, but it would be useful for me to practice:\n",
    "\n",
    "$\\langle-|+\\rangle = \\frac{1}{2}(\\langle 0| - \\langle 1 |) (|0\\rangle + |1\\rangle) = \\frac{1}{2}(\\langle0|0\\rangle + \\langle0|1\\rangle - \\langle1|0\\rangle - \\langle1|1\\rangle) = \\frac{1}{2}(1+0-0-1) = 0$\n",
    "\n",
    "\n",
    "*note to self - writing in latex takes forever, might be worthwhile doing exersices handwritten*"
   ]
  }
 ],
 "metadata": {
  "kernelspec": {
   "display_name": "Python 3 (ipykernel)",
   "language": "python",
   "name": "python3"
  },
  "language_info": {
   "codemirror_mode": {
    "name": "ipython",
    "version": 3
   },
   "file_extension": ".py",
   "mimetype": "text/x-python",
   "name": "python",
   "nbconvert_exporter": "python",
   "pygments_lexer": "ipython3",
   "version": "3.10.8"
  }
 },
 "nbformat": 4,
 "nbformat_minor": 5
}
